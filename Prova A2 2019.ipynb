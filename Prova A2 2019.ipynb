{
 "cells": [
  {
   "cell_type": "markdown",
   "metadata": {
    "jupyter": {
     "outputs_hidden": true
    }
   },
   "source": [
    "# Prova A2 - Linguagens de Programação\n",
    "## Professor: Flavio Codeço Coelho\n",
    "### Aluno: \n",
    "### Instruções:\n",
    "Esta prova deve ser feita em uma cópia deste notebook, no repositório do aluno no Github, compartilhado com o professor. "
   ]
  },
  {
   "cell_type": "markdown",
   "metadata": {},
   "source": [
    "**Questão 1:** Considere a matriz $A_{60\\times60}$ do Numpy abaixo. Usando operadores de slice `:`, gere uma matriz $30\\times20$, a  partir dos elementos da matriz $A$, usando apenas linhas cujo indice seja multiplo de 2, e as colunas cujo índice seja múltiplo de 3."
   ]
  },
  {
   "cell_type": "code",
   "execution_count": 64,
   "metadata": {},
   "outputs": [
    {
     "data": {
      "text/plain": [
       "(30, 20)"
      ]
     },
     "execution_count": 64,
     "metadata": {},
     "output_type": "execute_result"
    }
   ],
   "source": [
    "import numpy as np\n",
    "from numpy.random import normal\n",
    "A = normal(size=(60,60))\n",
    "\n",
    "B = A[1::2,2::3]\n",
    "B.shape"
   ]
  },
  {
   "cell_type": "markdown",
   "metadata": {},
   "source": [
    "**Questão 2:** Considere os testes abaixo abaixo. Escreva o código necessário para fazer todos os testes passarem. Você não pode modificar o código dos testes. "
   ]
  },
  {
   "cell_type": "code",
   "execution_count": 65,
   "metadata": {},
   "outputs": [
    {
     "name": "stderr",
     "output_type": "stream",
     "text": [
      "..\n",
      "----------------------------------------------------------------------\n",
      "Ran 2 tests in 0.016s\n",
      "\n",
      "OK\n"
     ]
    }
   ],
   "source": [
    "import unittest\n",
    "from collections.abc import Iterable\n",
    "\n",
    "#====== Seu código =========\n",
    "class Iterável:\n",
    "    def __init__(self):\n",
    "        a = True\n",
    "\n",
    "    def __iter__(self):\n",
    "        return self\n",
    "\n",
    "#===========================\n",
    "\n",
    "class MeusTestes(unittest.TestCase):\n",
    "    def test_instância_de_Iterável(self):\n",
    "        a = Iterável()\n",
    "        self.assertIsInstance(a, Iterável)\n",
    "        \n",
    "    def test_é_iterável(self):\n",
    "        a = Iterável()\n",
    "        self.assertIsInstance(a, Iterable)\n",
    "\n",
    "unittest.main(argv=['first-arg-is-ignored'], exit=False);"
   ]
  },
  {
   "cell_type": "markdown",
   "metadata": {},
   "source": [
    "**Questão 3:** Usando Numpy e Matplotlib. construa um painel de subplots(com 3 figuras em uma mesma coluna) contendo graficos das funções Seno, Cosseno e Tangente de  $x \\in (0,6\\pi)$."
   ]
  },
  {
   "cell_type": "code",
   "execution_count": 66,
   "metadata": {},
   "outputs": [
    {
     "data": {
      "text/plain": [
       "[<matplotlib.lines.Line2D at 0x299cf87be10>]"
      ]
     },
     "execution_count": 66,
     "metadata": {},
     "output_type": "execute_result"
    },
    {
     "data": {
      "image/png": "[encoded data removed]",
      "text/plain": [
       "<Figure size 432x288 with 3 Axes>"
      ]
     },
     "metadata": {
      "needs_background": "light"
     },
     "output_type": "display_data"
    }
   ],
   "source": [
    "import numpy as np\n",
    "import matplotlib.pyplot as plt\n",
    "\n",
    "fig, axs = plt.subplots(3, sharex=True)\n",
    "fig.suptitle('Seno, Cosseno e Tangente')\n",
    "\n",
    "x = np.linspace(0, 6 * np.pi, 400)\n",
    "y = np.sin(x)\n",
    "z = np.cos(x)\n",
    "w = np.tan(x)\n",
    "\n",
    "axs[0].plot(x, y)\n",
    "axs[1].plot(x, z)\n",
    "axs[2].plot(x, w)"
   ]
  },
  {
   "cell_type": "markdown",
   "metadata": {},
   "source": [
    "**Questão 4:** Considere o dataframe `df` abaixo. Gere um boxplot dos dados `x`, `y` e `z` para os dois grupos especificados na coluna `Grupo`."
   ]
  },
  {
   "cell_type": "code",
   "execution_count": null,
   "metadata": {},
   "outputs": [
    {
     "name": "stdout",
     "output_type": "stream",
     "text": [
      "Populating the interactive namespace from numpy and matplotlib\n"
     ]
    },
    {
     "name": "stderr",
     "output_type": "stream",
     "text": [
      "C:\\ProgramData\\Anaconda3\\lib\\site-packages\\IPython\\core\\magics\\pylab.py:160: UserWarning: pylab import has clobbered these variables: ['f']\n",
      "`%matplotlib` prevents importing * from pylab and numpy\n",
      "  \"\\n`%matplotlib` prevents importing * from pylab and numpy\"\n"
     ]
    },
    {
     "data": {
      "text/plain": [
       "array([[<matplotlib.axes._subplots.AxesSubplot object at 0x00000299CB3D6A58>,\n",
       "        <matplotlib.axes._subplots.AxesSubplot object at 0x00000299CF573FD0>],\n",
       "       [<matplotlib.axes._subplots.AxesSubplot object at 0x00000299CF764400>,\n",
       "        <matplotlib.axes._subplots.AxesSubplot object at 0x00000299CF78B7F0>]],\n",
       "      dtype=object)"
      ]
     },
     "execution_count": 67,
     "metadata": {},
     "output_type": "execute_result"
    }
   ],
   "source": [
    "import pandas as pd\n",
    "import numpy as np\n",
    "%pylab inline\n",
    "df = pd.DataFrame(np.random.randn(100, 3),columns=['x', 'y', 'z'])\n",
    "df['Grupo'] = np.random.choice(['A','B'], size=100, replace=True)\n",
    "df.boxplot(by = 'Grupo')\n"
   ]
  },
  {
   "cell_type": "markdown",
   "metadata": {},
   "source": [
    "**Questão 5:** Complete o código da classe `Filha` abaixo de maneira ao resultado da célula ser:\n",
    "\n",
    "Meu nome é Úrsula,\n",
    "\n",
    "Sou filha de Maria, 42 anos\n",
    "\n",
    "e sobrinha de Lucíola, 39 anos\n",
    "\n",
    "***Exigências:***\n",
    "Do código pré-existente, você **não pode modificar** nenhuma linha marcada com `#` e **não pode adicionar** nenhuma linha nova. "
   ]
  },
  {
   "cell_type": "code",
   "execution_count": null,
   "metadata": {},
   "outputs": [],
   "source": [
    "class Mãe:#\n",
    "    def __init__(self):#\n",
    "        self.nome = \"Maria\"#\n",
    "        self.idade = '42'#\n",
    "    \n",
    "class Tia:#\n",
    "    nome = \"Lucíola\"#\n",
    "    idade = 39#\n",
    "    \n",
    "    \n",
    "class Filha(Mãe,Tia):\n",
    "    Nome = \"Úrsula\"\n",
    "    def descreve_familia(self):#\n",
    "        super().__init__()#\n",
    "        print(\"Meu nome é {}, \\n\".format(self.Nome))\n",
    "        print(\"Sou filha de {}, {} anos \\n\".format(self.nome,self.idade)) \n",
    "        print(\"e sobrinha de {}, {} anos.\".format(Tia.nome,Tia.idade))\n",
    "              \n",
    "f=Filha()#\n",
    "f.descreve_familia()#"
   ]
  },
  {
   "cell_type": "code",
   "execution_count": null,
   "metadata": {},
   "outputs": [],
   "source": []
  }
 ],
 "metadata": {
  "kernelspec": {
   "display_name": "Python 3",
   "language": "python",
   "name": "python3"
  },
  "language_info": {
   "codemirror_mode": {
    "name": "ipython",
    "version": 3
   },
   "file_extension": ".py",
   "mimetype": "text/x-python",
   "name": "python",
   "nbconvert_exporter": "python",
   "pygments_lexer": "ipython3",
   "version": "3.7.0"
  },
  "latex_envs": {
   "LaTeX_envs_menu_present": true,
   "autoclose": false,
   "autocomplete": true,
   "bibliofile": "biblio.bib",
   "cite_by": "apalike",
   "current_citInitial": 1,
   "eqLabelWithNumbers": true,
   "eqNumInitial": 1,
   "hotkeys": {
    "equation": "Ctrl-E",
    "itemize": "Ctrl-I"
   },
   "labels_anchors": false,
   "latex_user_defs": false,
   "report_style_numbering": false,
   "user_envs_cfg": false
  },
  "pycharm": {
   "stem_cell": {
    "cell_type": "raw",
    "metadata": {
     "collapsed": false
    },
    "source": []
   }
  },
  "varInspector": {
   "cols": {
    "lenName": 16,
    "lenType": 16,
    "lenVar": 40
   },
   "kernels_config": {
    "python": {
     "delete_cmd_postfix": "",
     "delete_cmd_prefix": "del ",
     "library": "var_list.py",
     "varRefreshCmd": "print(var_dic_list())"
    },
    "r": {
     "delete_cmd_postfix": ") ",
     "delete_cmd_prefix": "rm(",
     "library": "var_list.r",
     "varRefreshCmd": "cat(var_dic_list()) "
    }
   },
   "types_to_exclude": [
    "module",
    "function",
    "builtin_function_or_method",
    "instance",
    "_Feature"
   ],
   "window_display": false
  }
 },
 "nbformat": 4,
 "nbformat_minor": 4
}
